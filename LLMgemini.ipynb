{
 "cells": [
  {
   "cell_type": "code",
   "execution_count": 1,
   "metadata": {},
   "outputs": [
    {
     "name": "stdout",
     "output_type": "stream",
     "text": [
      "hello\n"
     ]
    }
   ],
   "source": [
    "print (\"hello\")"
   ]
  },
  {
   "cell_type": "code",
   "execution_count": 39,
   "metadata": {},
   "outputs": [],
   "source": [
    "import google.generativeai as genai # type: ignore\n",
    "import os"
   ]
  },
  {
   "cell_type": "code",
   "execution_count": 40,
   "metadata": {},
   "outputs": [],
   "source": [
    "from dotenv import load_dotenv # type: ignore"
   ]
  },
  {
   "cell_type": "code",
   "execution_count": 41,
   "metadata": {},
   "outputs": [
    {
     "data": {
      "text/plain": [
       "True"
      ]
     },
     "execution_count": 41,
     "metadata": {},
     "output_type": "execute_result"
    }
   ],
   "source": [
    "load_dotenv()"
   ]
  },
  {
   "cell_type": "code",
   "execution_count": 42,
   "metadata": {},
   "outputs": [],
   "source": [
    "API_KEY= os.getenv('GEMINI_API_KEY')\n",
    "genai.configure(\n",
    "    api_key= API_KEY\n",
    ")"
   ]
  },
  {
   "cell_type": "code",
   "execution_count": 37,
   "metadata": {},
   "outputs": [],
   "source": [
    "\n",
    "instruction = \"\"\" \n",
    "Imagine you're assisting a user with ADHD in managing their tasks for the day.\n",
    "    The user may provide verbose or scattered input, mentioning various tasks without clear organization. Your task is to generate a concise \n",
    "    and prioritized to-do list based on the user's input. \n",
    "    Prioritize tasks based on urgency, importance, deadlines, task dependency, common sense. Also take into consideration time management\n",
    "    and user preferences if mentioned. \n",
    "    Consider the user's ADHD condition, which may require extra clarity and structure in the response. Ensure the generated to-do list \n",
    "    is easy to understand and follow, helping the user stay focused and productive despite their ADHD symptoms. Use natural language processing \n",
    "    techniques to extract task details and prioritize tasks effectively. Your response should reflect empathy, understanding, and a commitment \n",
    "    to supporting the user's productivity and well-being. \n",
    "    Additionally, if necessary, you may ask the user questions about certain deadlines or task details to better prioritize and organize their \n",
    "    tasks.\n",
    "        Notes: \n",
    "           1. you may ask the user questions about certain deadlines or task details if there is a missing information to better prioritize and organize their \n",
    "            tasks.\n",
    "           2. the list should be numbered.\n",
    "\"\"\""
   ]
  },
  {
   "cell_type": "code",
   "execution_count": 43,
   "metadata": {},
   "outputs": [],
   "source": [
    "model = genai.GenerativeModel('gemini-pro')\n",
    "chat = model.start_chat(history=[])"
   ]
  },
  {
   "cell_type": "code",
   "execution_count": 44,
   "metadata": {},
   "outputs": [
    {
     "name": "stdout",
     "output_type": "stream",
     "text": [
      "\n",
      "\n",
      "Bot: It sounds like you're feeling overwhelmed with a lot of different tasks and responsibilities. Here's a breakdown of your to-do list:\n",
      "\n",
      "**Work:**\n",
      "\n",
      "* Finish the report before the end of the day.\n",
      "\n",
      "**Car:**\n",
      "\n",
      "* Determine the source of the weird sound and get it fixed.\n",
      "\n",
      "**Sister's Birthday:**\n",
      "\n",
      "* Buy her a gift that she'll enjoy.\n",
      "\n",
      "**Dinner:**\n",
      "\n",
      "* Try out the recipe you've been thinking about.\n",
      "\n",
      "**Kitchen:**\n",
      "\n",
      "* Do the dishes after dinner.\n",
      "\n",
      "**Cat:**\n",
      "\n",
      "* Take your cat to the vet to rule out any underlying medical issues.\n",
      "\n",
      "**Emails:**\n",
      "\n",
      "* Go through your unread emails and respond to the important ones.\n",
      "\n",
      "**Additional Tips:**\n",
      "\n",
      "* **Prioritize tasks:** Decide which tasks are most important and urgent, and focus on completing them first.\n",
      "* **Break down large tasks:** If a task feels overwhelming, break it down into smaller, more manageable steps.\n",
      "* **Delegate or ask for help:** If possible, delegate tasks to others or ask for assistance from colleagues or family members.\n",
      "* **Take breaks:** Step away from your to-do list regularly to clear your head and recharge.\n",
      "* **Reward yourself:** When you complete a task, reward yourself with something small to stay motivated.\n",
      "* **Don't be afraid to say no:** It's okay to decline additional tasks or commitments if you're already feeling overwhelmed.\n",
      "* **Practice self-care:** Make sure to take care of your own well-being by getting enough sleep, eating healthy, and engaging in activities that bring you joy.\n",
      "\n",
      "\n"
     ]
    }
   ],
   "source": [
    "while(True):\n",
    "    question = input(\"YOU: \")\n",
    "    if (question.strip()== ''):\n",
    "        break\n",
    "    response = chat.send_message(instruction+question)\n",
    "    print('\\n')\n",
    "    print(f\"Bot: {response.text}\")\n",
    "    print('\\n')\n",
    "    instruction = ''"
   ]
  },
  {
   "cell_type": "code",
   "execution_count": null,
   "metadata": {},
   "outputs": [],
   "source": []
  },
  {
   "cell_type": "code",
   "execution_count": null,
   "metadata": {},
   "outputs": [],
   "source": []
  },
  {
   "cell_type": "code",
   "execution_count": null,
   "metadata": {},
   "outputs": [],
   "source": []
  },
  {
   "cell_type": "code",
   "execution_count": null,
   "metadata": {},
   "outputs": [],
   "source": []
  },
  {
   "cell_type": "code",
   "execution_count": 23,
   "metadata": {},
   "outputs": [
    {
     "data": {
      "text/plain": [
       "True"
      ]
     },
     "execution_count": 23,
     "metadata": {},
     "output_type": "execute_result"
    }
   ],
   "source": [
    "from dotenv import load_dotenv # type: ignore\n",
    "load_dotenv()"
   ]
  },
  {
   "cell_type": "code",
   "execution_count": 24,
   "metadata": {},
   "outputs": [],
   "source": [
    "\n",
    "API_KEY= os.getenv('GEMINI_API_KEY')\n",
    "genai.configure(\n",
    "    api_key= API_KEY\n",
    ")\n",
    "\n",
    "#genai.configure(api_key=os.environ.get(\"GOOGLE_API_KEY\"))"
   ]
  },
  {
   "cell_type": "code",
   "execution_count": 25,
   "metadata": {},
   "outputs": [],
   "source": [
    "model = genai.GenerativeModel('gemini-pro')\n",
    "chat = model.start_chat(history=[])"
   ]
  },
  {
   "cell_type": "code",
   "execution_count": 26,
   "metadata": {},
   "outputs": [
    {
     "name": "stdout",
     "output_type": "stream",
     "text": [
      "As an AI language model, I do not have personal preferences or experiences, including favorite seasons.\n"
     ]
    }
   ],
   "source": [
    "response = chat.send_message(\n",
    "      \"What\\'s your favorite season of the year?\")\n",
    "print(response.text)\n"
   ]
  },
  {
   "cell_type": "code",
   "execution_count": 46,
   "metadata": {},
   "outputs": [
    {
     "data": {
      "text/plain": [
       "' result= prompt_template.format(text=\"\"\\n                               \\n    Hey, so, um, today\\'s a bit of a mess. You know, like, it\\'s just one of those days, \\n    you know what I mean? Anyway, I\\'ve got this report thingy for work, gotta finish it before the end of the day\\n    or my boss will be all over me. But then there\\'s also this weird sound coming from my car, like, I don\\'t even know\\n    where it\\'s coming from, but I need to figure out what\\'s up with that before it gets worse. And oh, my sister\\'s\\n    birthday is coming up soon, need to buy her a gift, but not sure what she\\'s into these days. Plus, there\\'s this\\n    recipe I really wanna try for dinner tonight, like, it\\'s been on my mind all day, you know? But I can\\'t find half \\n    the ingredients in my pantry, like, where did they even go? Oh, and did I mention the pile of emails I haven\\'t even\\n    looked at yet? Ugh, it\\'s like my brain is a never-ending to-do list! Oh, and after dinner, I wanna do the dishes\\n    too, gotta keep the kitchen clean, you know? *Oh, sorry, did I mention my cat? Yeah, he\\'s been acting really\\n    strange lately, like, meowing at nothing and knocking things off the table. I should probably take him to the vet\\n    or something, but who has the time, right? Anyway, where was I? Oh yeah, so about that report...\\n                               \\n                               \"\") '"
      ]
     },
     "execution_count": 46,
     "metadata": {},
     "output_type": "execute_result"
    }
   ],
   "source": [
    "import start_prompt\n",
    "import importlib\n",
    "importlib.reload(start_prompt)\n",
    "\n",
    "#add another prompt \n",
    "\n",
    "#userInput = input(\"Enter your question\")\n",
    "#result= prompt_template.format(text=userInput)\n",
    "\n",
    "\"\"\" result= prompt_template.format(text=\"\"\n",
    "                               \n",
    "    Hey, so, um, today's a bit of a mess. You know, like, it's just one of those days, \n",
    "    you know what I mean? Anyway, I've got this report thingy for work, gotta finish it before the end of the day\n",
    "    or my boss will be all over me. But then there's also this weird sound coming from my car, like, I don't even know\n",
    "    where it's coming from, but I need to figure out what's up with that before it gets worse. And oh, my sister's\n",
    "    birthday is coming up soon, need to buy her a gift, but not sure what she's into these days. Plus, there's this\n",
    "    recipe I really wanna try for dinner tonight, like, it's been on my mind all day, you know? But I can't find half \n",
    "    the ingredients in my pantry, like, where did they even go? Oh, and did I mention the pile of emails I haven't even\n",
    "    looked at yet? Ugh, it's like my brain is a never-ending to-do list! Oh, and after dinner, I wanna do the dishes\n",
    "    too, gotta keep the kitchen clean, you know? *Oh, sorry, did I mention my cat? Yeah, he's been acting really\n",
    "    strange lately, like, meowing at nothing and knocking things off the table. I should probably take him to the vet\n",
    "    or something, but who has the time, right? Anyway, where was I? Oh yeah, so about that report...\n",
    "                               \n",
    "                               \"\") \"\"\"\n",
    "\n",
    "#print(result)"
   ]
  },
  {
   "cell_type": "code",
   "execution_count": 32,
   "metadata": {},
   "outputs": [
    {
     "name": "stdout",
     "output_type": "stream",
     "text": [
      "1. Finish the report for work (urgent, important, deadline at end of day)\n",
      "2. Check emails (less urgent, but potentially important)\n",
      "3. Buy a birthday gift for sister (somewhat important, deadline is sister's birthday)\n",
      "4. Gather ingredients for dinner recipe and cook dinner (less urgent, important for personal well-being)\n",
      "5. Do the dishes after dinner (less urgent, but important for maintaining cleanliness)\n",
      "6. Figure out the weird sound coming from the car (important, urgent if the sound indicates a potential safety issue)\n",
      "7. Take the cat to the vet (if the strange behavior persists or worsens)\n",
      "\n",
      "**Questions:**\n",
      "\n",
      "* When is your sister's birthday?\n",
      "* What time do you need to have the report finished by?\n",
      "* Have you noticed the weird sound coming from your car for a while now, or is this a new issue?\n",
      "* How long do you think it will take you to gather the ingredients and cook dinner?\n",
      "* Is there anything else that needs to be done before you can take the cat to the vet?\n"
     ]
    }
   ],
   "source": [
    "#response = chat.send_message(result)\n",
    "toDoList = response.text\n",
    "print(response.text)"
   ]
  },
  {
   "cell_type": "code",
   "execution_count": 48,
   "metadata": {},
   "outputs": [
    {
     "name": "stdout",
     "output_type": "stream",
     "text": [
      "\n",
      "\n",
      "Bot: Hi there, I understand that you're feeling overwhelmed with a lot of different tasks today. I'm happy to help you prioritize and organize your to-do list. Let's break it down step by step:\n",
      "\n",
      "**1. Urgent and Important Tasks:**\n",
      "\n",
      "* **Finish the report for work:** This is your top priority as it has a deadline today.\n",
      "\n",
      "**2. Important but Not Urgent Tasks:**\n",
      "\n",
      "* **Figure out the weird sound coming from your car:** This is important to address before it becomes a bigger problem.\n",
      "* **Buy a gift for your sister's birthday:** It's thoughtful to get her something she'll enjoy, but it's not as urgent as the report.\n",
      "\n",
      "**3. Less Important but Urgent Tasks:**\n",
      "\n",
      "* **Do the dishes after dinner:** Keeping your kitchen clean is important, but it can wait until after you've completed the more urgent tasks.\n",
      "\n",
      "**4. Less Important and Not Urgent Tasks:**\n",
      "\n",
      "* **Try out the recipe you've been thinking about:** This sounds fun, but it can wait until you have more time.\n",
      "* **Go through your unread emails:** Respond to any important emails, but this can be done later in the day or tomorrow.\n",
      "* **Take your cat to the vet:** It's good to rule out any underlying medical issues, but this can be scheduled for a time when you're less busy.\n",
      "\n",
      "**Additional Tips:**\n",
      "\n",
      "* **Break down large tasks:** The report may seem daunting, so break it down into smaller steps.\n",
      "* **Set realistic deadlines:** If you don't think you can finish the report by the end of the day, communicate this to your boss and negotiate a new deadline.\n",
      "* **Delegate or ask for help:** If possible, ask a colleague or family member to help you with tasks like buying your sister's gift or doing the dishes.\n",
      "* **Take breaks:** Step away from your to-do list regularly to clear your head and recharge.\n",
      "* **Reward yourself:** When you complete a task, reward yourself with something small to stay motivated.\n",
      "\n",
      "Remember, it's okay to adjust your to-do list as needed. If something unexpected comes up, don't be afraid to re-prioritize. I hope this helps you stay focused and productive today!\n",
      "\n",
      "\n"
     ]
    }
   ],
   "source": [
    "import start_prompt\n",
    "import importlib\n",
    "importlib.reload(start_prompt)\n",
    "\n",
    "while(True):\n",
    "    question = input(\"YOU: \")\n",
    "    if (question.strip()== ''):\n",
    "        break\n",
    "    response = chat.send_message(start_prompt.prompt_template.format(text = question))\n",
    "    print('\\n')\n",
    "    print(f\"Bot: {response.text}\")\n",
    "    print('\\n')\n",
    "    #instruction = ''"
   ]
  },
  {
   "cell_type": "code",
   "execution_count": 12,
   "metadata": {},
   "outputs": [],
   "source": [
    "def find_character_index(string, character):\n",
    "\n",
    "    for i, char in enumerate(string):\n",
    "        if char == character:\n",
    "            return i\n",
    "    return -1\n"
   ]
  },
  {
   "cell_type": "code",
   "execution_count": 13,
   "metadata": {},
   "outputs": [
    {
     "name": "stdout",
     "output_type": "stream",
     "text": [
      "-1\n"
     ]
    }
   ],
   "source": [
    "first_index=find_character_index(toDoList, '[')\n",
    "print (first_index)"
   ]
  },
  {
   "cell_type": "code",
   "execution_count": 23,
   "metadata": {},
   "outputs": [
    {
     "name": "stdout",
     "output_type": "stream",
     "text": [
      "218\n"
     ]
    }
   ],
   "source": [
    "scnd_index=find_character_index(toDoList, ']')\n",
    "print (scnd_index)"
   ]
  },
  {
   "cell_type": "code",
   "execution_count": 25,
   "metadata": {},
   "outputs": [],
   "source": [
    "tasks = toDoList[first_index:scnd_index+1]"
   ]
  },
  {
   "cell_type": "code",
   "execution_count": 27,
   "metadata": {},
   "outputs": [],
   "source": [
    "tasksList=eval(tasks)"
   ]
  },
  {
   "cell_type": "code",
   "execution_count": 28,
   "metadata": {},
   "outputs": [
    {
     "data": {
      "text/plain": [
       "'Finish the work report'"
      ]
     },
     "execution_count": 28,
     "metadata": {},
     "output_type": "execute_result"
    }
   ],
   "source": [
    "tasksList[0]"
   ]
  },
  {
   "cell_type": "code",
   "execution_count": null,
   "metadata": {},
   "outputs": [],
   "source": []
  }
 ],
 "metadata": {
  "kernelspec": {
   "display_name": "env",
   "language": "python",
   "name": "python3"
  },
  "language_info": {
   "codemirror_mode": {
    "name": "ipython",
    "version": 3
   },
   "file_extension": ".py",
   "mimetype": "text/x-python",
   "name": "python",
   "nbconvert_exporter": "python",
   "pygments_lexer": "ipython3",
   "version": "3.9.19"
  }
 },
 "nbformat": 4,
 "nbformat_minor": 2
}
