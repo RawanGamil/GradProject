{
 "cells": [
  {
   "cell_type": "code",
   "execution_count": 1,
   "metadata": {},
   "outputs": [
    {
     "name": "stderr",
     "output_type": "stream",
     "text": [
      "c:\\Users\\WinDows\\miniconda3\\envs\\env\\lib\\site-packages\\tqdm\\auto.py:21: TqdmWarning: IProgress not found. Please update jupyter and ipywidgets. See https://ipywidgets.readthedocs.io/en/stable/user_install.html\n",
      "  from .autonotebook import tqdm as notebook_tqdm\n"
     ]
    }
   ],
   "source": [
    "import google.generativeai as genai # type: ignore\n",
    "import os"
   ]
  },
  {
   "cell_type": "code",
   "execution_count": 2,
   "metadata": {},
   "outputs": [],
   "source": [
    "from dotenv import load_dotenv # type: ignore"
   ]
  },
  {
   "cell_type": "code",
   "execution_count": 3,
   "metadata": {},
   "outputs": [
    {
     "data": {
      "text/plain": [
       "True"
      ]
     },
     "execution_count": 3,
     "metadata": {},
     "output_type": "execute_result"
    }
   ],
   "source": [
    "load_dotenv()"
   ]
  },
  {
   "cell_type": "code",
   "execution_count": 4,
   "metadata": {},
   "outputs": [],
   "source": [
    "API_KEY= os.getenv('GEMINI_API_KEY')\n",
    "genai.configure(\n",
    "    api_key= API_KEY \n",
    ")"
   ]
  },
  {
   "cell_type": "code",
   "execution_count": 5,
   "metadata": {},
   "outputs": [],
   "source": [
    "model = genai.GenerativeModel('gemini-pro') \n",
    "chat = model.start_chat(history=[])"
   ]
  },
  {
   "cell_type": "code",
   "execution_count": 6,
   "metadata": {},
   "outputs": [
    {
     "data": {
      "text/plain": [
       "<module 'start_prompt' from 'd:\\\\grad\\\\geminiPrompts\\\\start_prompt.py'>"
      ]
     },
     "execution_count": 6,
     "metadata": {},
     "output_type": "execute_result"
    }
   ],
   "source": [
    "import start_prompt\n",
    "import importlib\n",
    "importlib.reload(start_prompt)"
   ]
  },
  {
   "cell_type": "code",
   "execution_count": 8,
   "metadata": {},
   "outputs": [
    {
     "name": "stdout",
     "output_type": "stream",
     "text": [
      "\n",
      "\n",
      "Bot: 1. Make breakfast for your sister, Deadline: NULL, NOT REQUIRED.\n",
      "2. Prepare your sister's school books, Deadline: NULL, NOT REQUIRED.\n",
      "3. Drop your sister to school, Deadline: NULL, REQUIRED.\n",
      "4. Go to your doctor's appointment, Deadline: NULL, REQUIRED.\n",
      "5. Check emails for work, Deadline: NULL, NOT REQUIRED.\n",
      "6. Prepare dinner, Deadline: NULL, NOT REQUIRED.\n",
      "\n",
      "\n"
     ]
    }
   ],
   "source": [
    "importlib.reload(start_prompt)\n",
    "\n",
    "\n",
    "question =\"\"\"Hello, i have a lot of work to do today. i have to go drop my sister to school and i have to prepare dinner and also go to my doctor's\n",
    "appointment. Oh, I forgot to check on my emails to see if I have any work t get done\n",
    "And I shouldn't forget to make breakfast for my sister and prepare her school books that she needs.\"\"\"\n",
    "response = chat.send_message(start_prompt.prompt_template.format(text = question))\n",
    "\n",
    "print('\\n')\n",
    "print(f\"Bot: {response.text}\")\n",
    "print('\\n')"
   ]
  },
  {
   "cell_type": "code",
   "execution_count": 9,
   "metadata": {},
   "outputs": [
    {
     "data": {
      "text/plain": [
       "[{'description': '1. Make breakfast for your sister',\n",
       "  'deadline': 'NULL',\n",
       "  'required': 'NOT REQUIRED.'},\n",
       " {'description': \"2. Prepare your sister's school books\",\n",
       "  'deadline': 'NULL',\n",
       "  'required': 'NOT REQUIRED.'},\n",
       " {'description': '3. Drop your sister to school',\n",
       "  'deadline': 'NULL',\n",
       "  'required': 'REQUIRED.'},\n",
       " {'description': \"4. Go to your doctor's appointment\",\n",
       "  'deadline': 'NULL',\n",
       "  'required': 'REQUIRED.'},\n",
       " {'description': '5. Check emails for work',\n",
       "  'deadline': 'NULL',\n",
       "  'required': 'NOT REQUIRED.'},\n",
       " {'description': '6. Prepare dinner',\n",
       "  'deadline': 'NULL',\n",
       "  'required': 'NOT REQUIRED.'}]"
      ]
     },
     "execution_count": 9,
     "metadata": {},
     "output_type": "execute_result"
    }
   ],
   "source": [
    "tasks =response.text.split(\"\\n\")\n",
    "taskDetails = []\n",
    "for task in tasks:\n",
    "    description, deadline, required =task.split(\",\")\n",
    "    deadline_value = deadline.split(\": \")[1]\n",
    "    required = required.strip()\n",
    "    taskDetails.append({'description':description,\n",
    "                        'deadline': deadline_value,\n",
    "                       'required':required })\n",
    "\n",
    "\n",
    "\n",
    "taskDetails"
   ]
  },
  {
   "cell_type": "code",
   "execution_count": 10,
   "metadata": {},
   "outputs": [],
   "source": [
    "for i,task in enumerate(taskDetails) :\n",
    "    if task[\"deadline\"] == \"NULL\" and task[\"required\"]== \"REQUIRED.\":\n",
    "        new_deadline = input(\"Enter the deadline of the following task:\" + task[\"description\"] +\" \")\n",
    "        taskDetails[i][\"deadline\"] = new_deadline\n",
    "        "
   ]
  },
  {
   "cell_type": "code",
   "execution_count": 11,
   "metadata": {},
   "outputs": [
    {
     "data": {
      "text/plain": [
       "[{'description': '1. Make breakfast for your sister',\n",
       "  'deadline': 'NULL',\n",
       "  'required': 'NOT REQUIRED.'},\n",
       " {'description': \"2. Prepare your sister's school books\",\n",
       "  'deadline': 'NULL',\n",
       "  'required': 'NOT REQUIRED.'},\n",
       " {'description': '3. Drop your sister to school',\n",
       "  'deadline': '8am',\n",
       "  'required': 'REQUIRED.'},\n",
       " {'description': \"4. Go to your doctor's appointment\",\n",
       "  'deadline': '10am',\n",
       "  'required': 'REQUIRED.'},\n",
       " {'description': '5. Check emails for work',\n",
       "  'deadline': 'NULL',\n",
       "  'required': 'NOT REQUIRED.'},\n",
       " {'description': '6. Prepare dinner',\n",
       "  'deadline': 'NULL',\n",
       "  'required': 'NOT REQUIRED.'}]"
      ]
     },
     "execution_count": 11,
     "metadata": {},
     "output_type": "execute_result"
    }
   ],
   "source": [
    "taskDetails"
   ]
  },
  {
   "cell_type": "code",
   "execution_count": 12,
   "metadata": {},
   "outputs": [],
   "source": [
    "listComprehension = [f\"{task['description']} , Deadline: {task['deadline']}, {task['required']}\" for task in taskDetails] #list comprehension"
   ]
  },
  {
   "cell_type": "code",
   "execution_count": 13,
   "metadata": {},
   "outputs": [
    {
     "name": "stdout",
     "output_type": "stream",
     "text": [
      "1. Make breakfast for your sister , Deadline: NULL, NOT REQUIRED.\n",
      "2. Prepare your sister's school books , Deadline: NULL, NOT REQUIRED.\n",
      "3. Drop your sister to school , Deadline: 8am, REQUIRED.\n",
      "4. Go to your doctor's appointment , Deadline: 10am, REQUIRED.\n",
      "5. Check emails for work , Deadline: NULL, NOT REQUIRED.\n",
      "6. Prepare dinner , Deadline: NULL, NOT REQUIRED.\n"
     ]
    }
   ],
   "source": [
    "finalString=\"\\n\".join(listComprehension)\n",
    "print(finalString)"
   ]
  },
  {
   "cell_type": "code",
   "execution_count": 14,
   "metadata": {},
   "outputs": [
    {
     "name": "stdout",
     "output_type": "stream",
     "text": [
      "1. Make breakfast for your sister, Deadline: NULL, NOT REQUIRED.\n",
      "2. Prepare your sister's school books, Deadline: NULL, NOT REQUIRED.\n",
      "3. Drop your sister to school, Deadline: 8am, REQUIRED.\n",
      "4. Go to your doctor's appointment, Deadline: 10am, REQUIRED.\n",
      "5. Check emails for work, Deadline: NULL, NOT REQUIRED.\n",
      "6. Prepare dinner, Deadline: NULL, NOT REQUIRED.\n"
     ]
    }
   ],
   "source": [
    "SecondResponse = chat.send_message(start_prompt.nextPrompt.format(text = question, list = finalString))\n",
    "print(SecondResponse.text)"
   ]
  },
  {
   "cell_type": "code",
   "execution_count": null,
   "metadata": {},
   "outputs": [],
   "source": []
  }
 ],
 "metadata": {
  "kernelspec": {
   "display_name": "env",
   "language": "python",
   "name": "python3"
  },
  "language_info": {
   "codemirror_mode": {
    "name": "ipython",
    "version": 3
   },
   "file_extension": ".py",
   "mimetype": "text/x-python",
   "name": "python",
   "nbconvert_exporter": "python",
   "pygments_lexer": "ipython3",
   "version": "3.9.19"
  }
 },
 "nbformat": 4,
 "nbformat_minor": 2
}
